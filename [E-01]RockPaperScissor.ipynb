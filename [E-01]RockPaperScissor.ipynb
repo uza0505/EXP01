{
 "cells": [
  {
   "cell_type": "markdown",
   "id": "795c4f9a",
   "metadata": {},
   "source": [
    "# 제목 : 미니 프로젝트 : 가위바위보 분류기를 만들자\n",
    "\n",
    "\n",
    "## 목차\n",
    "  ### 1> 필요한 라이브러리 정리하기 \n",
    "  ### 2> 이미지 크기 조정 함수( 28 X 28)\n",
    "  ####    2-1> 학습데이터 크기 조정\n",
    "  ####    2-2> 테스트데이터 크기 조정 \n",
    "  \n",
    "  ### 3> 이미지에 라벨링 작업함수\n",
    "  ####   3-1> 라벨링 작업 \n",
    "  ####   3-2> 라벨링 확인\n",
    "  \n",
    "  ### 4> Model Layer 개수 정하기 \n",
    "  \n",
    "  ### 5> 채널수에 대한 정보주기 \n",
    "  \n",
    "  ### 6> 모델 학습\n",
    "  \n",
    "  ### 7> 모델 테스트 \n",
    "  \n",
    "  \n",
    "## 이슈 - 어떤 데이터를 모을 것인가\n",
    "   ### 1> 첫번째 방법 \n",
    "    학습데이터는 총 2100개 (한사람의데이터중 8:2로 구분하여 총 7명의 데이터를 구성하여 train:1680 , test:420)\n",
    "    예시> 김1 (trian 80, test20) , 김2 (trian 80, test20) , 김3 (trian 80, test20)\n",
    "    <결과> test_loss: 0.34256115555763245 \n",
    "           test_accuracy: 0.9095237851142883 \n",
    "           \n",
    "   ### 2> 두번째 방법\n",
    "    학습데이터는 총 2100개 (여러사람의 데이터를 구성 train:1680 , train에서 없는 데이터 test:300)\n",
    "    예시>  김1, 김2, 김3 의 데이터로 학습,  박1 로 테스트데이터 사용 \n",
    "    \n",
    "    <결과> test_loss: 7.597764492034912 \n",
    "           test_accuracy: 0.46000000834465027\n",
    "     \n",
    "## 루브릭  평가\n",
    " ### 1> 이미지 분류기 모델이 성공적으로 만들어졌는가? \n",
    " ### 2> 오버피팅을 극복하기 위한 적절한 시도가 있었는가?\n",
    " ### 3> 분류모델의 test accuracy가 기준 이상 높게 나왔는가? \n",
    "\n",
    "\n",
    "## 소감 \n",
    "     첫번째 실습이기도 하지만 헉 공부를 조금이라도 하고 오길 잘했다는 기분이 듭니다. \n",
    "     아이펠에서 말한 \"아무것도 몰라요\" 라는 말은 뻥이였다. \n",
    "     데이터를 여러사람이 모을 수 있어서 좋았고 하나하나 뜯어보고 물어보면 모르겠지만 \n",
    "     전체적인 흐름은 이런거구나는 알겠다. \n",
    "     공부를 열심히 해서 하나하나 뜯어보고 벗겨(?) 보았을때 설명해줄수 있으면 좋겠다. 그런날은 곧 오리라.\n",
    "  \n",
    "\n",
    "  \n",
    "\n"
   ]
  },
  {
   "cell_type": "code",
   "execution_count": 29,
   "id": "788422d1",
   "metadata": {},
   "outputs": [
    {
     "name": "stdout",
     "output_type": "stream",
     "text": [
      "필요한 라이브러리 import 완료!\n"
     ]
    }
   ],
   "source": [
    "from PIL import Image\n",
    "import glob\n",
    "import matplotlib.pyplot as plt\n",
    "import numpy as np\n",
    "\n",
    "print(\"필요한 라이브러리 import 완료!\")"
   ]
  },
  {
   "cell_type": "code",
   "execution_count": 30,
   "id": "7f5e2160",
   "metadata": {},
   "outputs": [],
   "source": [
    "#이미지 크기 조정 함수\n",
    "def resize_images(img_path):\n",
    "\timages=glob.glob(img_path + \"/*.jpg\")  \n",
    "    \n",
    "\tprint(len(images), \" images to be resized.\")\n",
    "\n",
    "    # 파일마다 모두 28x28 사이즈로 바꾸어 저장합니다.\n",
    "\ttarget_size=(28,28)\n",
    "\tfor img in images:\n",
    "\t\told_img=Image.open(img)\n",
    "\t\tnew_img=old_img.resize(target_size,Image.ANTIALIAS)\n",
    "\t\tnew_img.save(img, \"JPEG\")\n",
    "    \n",
    "\tprint(len(images), \" images resized.\")\n"
   ]
  },
  {
   "cell_type": "code",
   "execution_count": 31,
   "id": "104e03e0",
   "metadata": {},
   "outputs": [
    {
     "name": "stdout",
     "output_type": "stream",
     "text": [
      "560  images to be resized.\n",
      "560  images resized.\n",
      "가위 이미지 resize 완료!\n",
      "560  images to be resized.\n",
      "560  images resized.\n",
      "바위 이미지 resize 완료!\n",
      "560  images to be resized.\n",
      "560  images resized.\n",
      "보 이미지 resize 완료!\n"
     ]
    }
   ],
   "source": [
    "#학습데이터 크기 조정\n",
    "\n",
    "# 가위 이미지가 저장된 디렉토리 아래의 모든 jpg 파일을 읽어들여서\n",
    "image_dir_path = \"./rock_scissor_paper/scissor\"\n",
    "resize_images(image_dir_path)\n",
    "\n",
    "print(\"가위 이미지 resize 완료!\")\n",
    "\n",
    "# 바위 이미지가 저장된 디렉토리 아래의 모든 jpg 파일을 읽어들여서\n",
    "image_dir_path = \"./rock_scissor_paper/rock\"\n",
    "resize_images(image_dir_path)\n",
    "\n",
    "print(\"바위 이미지 resize 완료!\")\n",
    "\n",
    "# 보 이미지가 저장된 디렉토리 아래의 모든 jpg 파일을 읽어들여서\n",
    "image_dir_path =\"./rock_scissor_paper/paper\" \n",
    "\n",
    "# 파일마다 모두 28x28 사이즈로 바꾸어 저장합니다.\n",
    "resize_images(image_dir_path)\n",
    "print(\"보 이미지 resize 완료!\")"
   ]
  },
  {
   "cell_type": "code",
   "execution_count": 34,
   "id": "a2ce14f9",
   "metadata": {},
   "outputs": [
    {
     "name": "stdout",
     "output_type": "stream",
     "text": [
      "140  images to be resized.\n",
      "140  images resized.\n",
      "가위 이미지 resize 완료!\n",
      "140  images to be resized.\n",
      "140  images resized.\n",
      "바위 이미지 resize 완료!\n",
      "140  images to be resized.\n",
      "140  images resized.\n",
      "보 이미지 resize 완료!\n"
     ]
    }
   ],
   "source": [
    "#테스트 데이터 크기 조정\n",
    "# 가위 이미지가 저장된 디렉토리 아래의 모든 jpg 파일을 읽어들여서\n",
    "image_dir_path = \"./rock_scissor_paper_test/scissor\"\n",
    "resize_images(image_dir_path)\n",
    "\n",
    "print(\"가위 이미지 resize 완료!\")\n",
    "\n",
    "# 바위 이미지가 저장된 디렉토리 아래의 모든 jpg 파일을 읽어들여서\n",
    "image_dir_path = \"./rock_scissor_paper_test/rock\"\n",
    "resize_images(image_dir_path)\n",
    "\n",
    "print(\"바위 이미지 resize 완료!\")\n",
    "\n",
    "# 보 이미지가 저장된 디렉토리 아래의 모든 jpg 파일을 읽어들여서\n",
    "image_dir_path =\"./rock_scissor_paper_test/paper\" \n",
    "\n",
    "# 파일마다 모두 28x28 사이즈로 바꾸어 저장합니다.\n",
    "resize_images(image_dir_path)\n",
    "print(\"보 이미지 resize 완료!\")"
   ]
  },
  {
   "cell_type": "code",
   "execution_count": 38,
   "id": "89b70c1f",
   "metadata": {},
   "outputs": [],
   "source": [
    "# 이미지에 라벨링 작업함수\n",
    "def load_data(img_path, number_of_data):  # 가위바위보 이미지 개수 총합에 주의하세요.\n",
    "    # 가위 : 0, 바위 : 1, 보 : 2\n",
    "    img_size=28\n",
    "    color=3\n",
    "    #이미지 데이터와 라벨(가위 : 0, 바위 : 1, 보 : 2) 데이터를 담을 행렬(matrix) 영역을 생성합니다.\n",
    "    imgs=np.zeros(number_of_data*img_size*img_size*color,dtype=np.int32).reshape(number_of_data,img_size,img_size,color)\n",
    "    labels=np.zeros(number_of_data,dtype=np.int32)\n",
    "\n",
    "    idx=0\n",
    "    for file in glob.iglob(img_path+'/scissor/*.jpg'):\n",
    "        img = np.array(Image.open(file),dtype=np.int32)\n",
    "        imgs[idx,:,:,:]=img    # 데이터 영역에 이미지 행렬을 복사\n",
    "        labels[idx]=0   # 가위 : 0\n",
    "        idx=idx+1\n",
    "\n",
    "    for file in glob.iglob(img_path+'/rock/*.jpg'):\n",
    "        img = np.array(Image.open(file),dtype=np.int32)\n",
    "        imgs[idx,:,:,:]=img    # 데이터 영역에 이미지 행렬을 복사\n",
    "        labels[idx]=1   # 바위 : 1\n",
    "        idx=idx+1  \n",
    "    \n",
    "    for file in glob.iglob(img_path+'/paper/*.jpg'):\n",
    "        img = np.array(Image.open(file),dtype=np.int32)\n",
    "        imgs[idx,:,:,:]=img    # 데이터 영역에 이미지 행렬을 복사\n",
    "        labels[idx]=2   # 보 : 2\n",
    "        idx=idx+1\n",
    "        \n",
    "    print(\"학습데이터(x_train)의 이미지 개수는\", idx,\"입니다.\")\n",
    "    return imgs, labels\n",
    "\n"
   ]
  },
  {
   "cell_type": "code",
   "execution_count": 39,
   "id": "b0d395a6",
   "metadata": {},
   "outputs": [
    {
     "name": "stdout",
     "output_type": "stream",
     "text": [
      "학습데이터(x_train)의 이미지 개수는 1680 입니다.\n",
      "x_train shape: (1680, 28, 28, 3)\n",
      "y_train shape: (1680,)\n",
      "학습데이터(x_train)의 이미지 개수는 420 입니다.\n",
      "x_test shape: (420, 28, 28, 3)\n",
      "y_test shape: (420,)\n"
     ]
    }
   ],
   "source": [
    "#라벨링 작업\n",
    "#train\n",
    "image_dir_path =  \"./rock_scissor_paper/\"\n",
    "(x_train, y_train)=load_data(image_dir_path,1680)\n",
    "x_train_norm = x_train/255.0   # 입력은 0~1 사이의 값으로 정규화\n",
    "\n",
    "print(\"x_train shape: {}\".format(x_train.shape))\n",
    "print(\"y_train shape: {}\".format(y_train.shape))\n",
    "\n",
    "#test \n",
    "image_dir_path =  \"./rock_scissor_paper_test/\"\n",
    "(x_test, y_test)=load_data(image_dir_path,420)\n",
    "x_test_norm = x_test/255.0   # 입력은 0~1 사이의 값으로 정규화\n",
    "\n",
    "print(\"x_test shape: {}\".format(x_test.shape))\n",
    "print(\"y_test shape: {}\".format(y_test.shape))"
   ]
  },
  {
   "cell_type": "code",
   "execution_count": 20,
   "id": "fbc09f61",
   "metadata": {},
   "outputs": [
    {
     "name": "stdout",
     "output_type": "stream",
     "text": [
      "라벨:  0\n"
     ]
    },
    {
     "data": {
      "image/png": "[encoded data removed]",
      "text/plain": [
       "<Figure size 432x288 with 1 Axes>"
      ]
     },
     "metadata": {
      "needs_background": "light"
     },
     "output_type": "display_data"
    }
   ],
   "source": [
    "plt.imshow(x_train[1])\n",
    "print('라벨: ', y_train[1])"
   ]
  },
  {
   "cell_type": "code",
   "execution_count": 22,
   "id": "c713dffa",
   "metadata": {},
   "outputs": [
    {
     "name": "stdout",
     "output_type": "stream",
     "text": [
      "라벨:  2\n"
     ]
    },
    {
     "data": {
      "image/png": "[encoded data removed]",
      "text/plain": [
       "<Figure size 432x288 with 1 Axes>"
      ]
     },
     "metadata": {
      "needs_background": "light"
     },
     "output_type": "display_data"
    }
   ],
   "source": [
    "plt.imshow(x_test[400])\n",
    "print('라벨: ', y_test[400])"
   ]
  },
  {
   "cell_type": "code",
   "execution_count": 44,
   "id": "053bff46",
   "metadata": {},
   "outputs": [
    {
     "name": "stdout",
     "output_type": "stream",
     "text": [
      "Model에 추가된 Layer 개수:  7\n",
      "Model: \"sequential_2\"\n",
      "_________________________________________________________________\n",
      "Layer (type)                 Output Shape              Param #   \n",
      "=================================================================\n",
      "conv2d_4 (Conv2D)            (None, 26, 26, 16)        448       \n",
      "_________________________________________________________________\n",
      "max_pooling2d_4 (MaxPooling2 (None, 13, 13, 16)        0         \n",
      "_________________________________________________________________\n",
      "conv2d_5 (Conv2D)            (None, 11, 11, 32)        4640      \n",
      "_________________________________________________________________\n",
      "max_pooling2d_5 (MaxPooling2 (None, 5, 5, 32)          0         \n",
      "_________________________________________________________________\n",
      "flatten_2 (Flatten)          (None, 800)               0         \n",
      "_________________________________________________________________\n",
      "dense_4 (Dense)              (None, 32)                25632     \n",
      "_________________________________________________________________\n",
      "dense_5 (Dense)              (None, 3)                 99        \n",
      "=================================================================\n",
      "Total params: 30,819\n",
      "Trainable params: 30,819\n",
      "Non-trainable params: 0\n",
      "_________________________________________________________________\n"
     ]
    }
   ],
   "source": [
    "#Model Layer 개수 정하기 \n",
    "import tensorflow as tf\n",
    "from tensorflow import keras\n",
    "import numpy as np\n",
    "\n",
    "# model을 직접 만들어 보세요.\n",
    "# Hint! model의 입력/출력부에 특히 유의해 주세요. 가위바위보 데이터셋은 MNIST 데이터셋과 어떤 점이 달라졌나요?\n",
    "# [[YOUR CODE]]\n",
    "model=keras.models.Sequential()\n",
    "model.add(keras.layers.Conv2D(16, (3,3), activation='relu', input_shape=(28,28,3)))\n",
    "model.add(keras.layers.MaxPool2D(2,2))\n",
    "model.add(keras.layers.Conv2D(32, (3,3), activation='relu'))\n",
    "model.add(keras.layers.MaxPooling2D((2,2)))\n",
    "model.add(keras.layers.Flatten())\n",
    "model.add(keras.layers.Dense(32, activation='relu'))\n",
    "model.add(keras.layers.Dense(3, activation='softmax'))\n",
    "\n",
    "print('Model에 추가된 Layer 개수: ', len(model.layers))\n",
    "\n",
    "\n",
    "model.summary()"
   ]
  },
  {
   "cell_type": "code",
   "execution_count": 45,
   "id": "4b3d32a8",
   "metadata": {},
   "outputs": [
    {
     "name": "stdout",
     "output_type": "stream",
     "text": [
      "Before Reshape - x_train_norm shape: (1680, 28, 28, 3)\n",
      "Before Reshape - x_test_norm shape: (300, 28, 28, 3)\n",
      "After Reshape - x_train_reshaped shape: (1680, 28, 28, 3)\n",
      "After Reshape - x_test_reshaped shape: (300, 28, 28, 3)\n"
     ]
    }
   ],
   "source": [
    "#  채널수에 대한 정보주기 \n",
    "print(\"Before Reshape - x_train_norm shape: {}\".format(x_train_norm.shape))\n",
    "print(\"Before Reshape - x_test_norm shape: {}\".format(x_test_norm.shape))\n",
    "\n",
    "x_train_reshaped=x_train_norm.reshape( -1, 28, 28, 3)  # 데이터갯수에 -1을 쓰면 reshape시 자동계산됩니다.\n",
    "x_test_reshaped=x_test_norm.reshape( -1, 28, 28, 3)\n",
    "\n",
    "print(\"After Reshape - x_train_reshaped shape: {}\".format(x_train_reshaped.shape))\n",
    "print(\"After Reshape - x_test_reshaped shape: {}\".format(x_test_reshaped.shape))"
   ]
  },
  {
   "cell_type": "code",
   "execution_count": 64,
   "id": "67663303",
   "metadata": {},
   "outputs": [
    {
     "name": "stdout",
     "output_type": "stream",
     "text": [
      "Epoch 1/100\n",
      "53/53 [==============================] - 0s 3ms/step - loss: 2.8975e-04 - accuracy: 1.0000\n",
      "Epoch 2/100\n",
      "53/53 [==============================] - 0s 3ms/step - loss: 0.0220 - accuracy: 0.9917\n",
      "Epoch 3/100\n",
      "53/53 [==============================] - 0s 3ms/step - loss: 0.0087 - accuracy: 0.9970\n",
      "Epoch 4/100\n",
      "53/53 [==============================] - 0s 3ms/step - loss: 0.0060 - accuracy: 0.9988\n",
      "Epoch 5/100\n",
      "53/53 [==============================] - 0s 3ms/step - loss: 0.0131 - accuracy: 0.9952\n",
      "Epoch 6/100\n",
      "53/53 [==============================] - 0s 3ms/step - loss: 0.0047 - accuracy: 0.9988\n",
      "Epoch 7/100\n",
      "53/53 [==============================] - 0s 3ms/step - loss: 2.2993e-04 - accuracy: 1.0000\n",
      "Epoch 8/100\n",
      "53/53 [==============================] - 0s 3ms/step - loss: 7.5675e-05 - accuracy: 1.0000\n",
      "Epoch 9/100\n",
      "53/53 [==============================] - 0s 3ms/step - loss: 5.9419e-05 - accuracy: 1.0000\n",
      "Epoch 10/100\n",
      "53/53 [==============================] - 0s 3ms/step - loss: 5.2609e-05 - accuracy: 1.0000\n",
      "Epoch 11/100\n",
      "53/53 [==============================] - 0s 3ms/step - loss: 4.7791e-05 - accuracy: 1.0000\n",
      "Epoch 12/100\n",
      "53/53 [==============================] - 0s 3ms/step - loss: 4.4169e-05 - accuracy: 1.0000\n",
      "Epoch 13/100\n",
      "53/53 [==============================] - 0s 3ms/step - loss: 4.0869e-05 - accuracy: 1.0000\n",
      "Epoch 14/100\n",
      "53/53 [==============================] - 0s 3ms/step - loss: 3.8138e-05 - accuracy: 1.0000\n",
      "Epoch 15/100\n",
      "53/53 [==============================] - 0s 3ms/step - loss: 3.5873e-05 - accuracy: 1.0000\n",
      "Epoch 16/100\n",
      "53/53 [==============================] - 0s 3ms/step - loss: 3.3716e-05 - accuracy: 1.0000\n",
      "Epoch 17/100\n",
      "53/53 [==============================] - 0s 3ms/step - loss: 3.2036e-05 - accuracy: 1.0000\n",
      "Epoch 18/100\n",
      "53/53 [==============================] - 0s 3ms/step - loss: 3.0284e-05 - accuracy: 1.0000\n",
      "Epoch 19/100\n",
      "53/53 [==============================] - 0s 3ms/step - loss: 2.8820e-05 - accuracy: 1.0000\n",
      "Epoch 20/100\n",
      "53/53 [==============================] - 0s 3ms/step - loss: 2.7497e-05 - accuracy: 1.0000\n",
      "Epoch 21/100\n",
      "53/53 [==============================] - 0s 3ms/step - loss: 2.6239e-05 - accuracy: 1.0000\n",
      "Epoch 22/100\n",
      "53/53 [==============================] - 0s 3ms/step - loss: 2.4970e-05 - accuracy: 1.0000\n",
      "Epoch 23/100\n",
      "53/53 [==============================] - 0s 3ms/step - loss: 2.4000e-05 - accuracy: 1.0000\n",
      "Epoch 24/100\n",
      "53/53 [==============================] - 0s 3ms/step - loss: 2.3035e-05 - accuracy: 1.0000\n",
      "Epoch 25/100\n",
      "53/53 [==============================] - 0s 3ms/step - loss: 2.2065e-05 - accuracy: 1.0000\n",
      "Epoch 26/100\n",
      "53/53 [==============================] - 0s 3ms/step - loss: 2.1217e-05 - accuracy: 1.0000\n",
      "Epoch 27/100\n",
      "53/53 [==============================] - 0s 3ms/step - loss: 2.0387e-05 - accuracy: 1.0000\n",
      "Epoch 28/100\n",
      "53/53 [==============================] - 0s 3ms/step - loss: 1.9716e-05 - accuracy: 1.0000\n",
      "Epoch 29/100\n",
      "53/53 [==============================] - 0s 3ms/step - loss: 1.9037e-05 - accuracy: 1.0000\n",
      "Epoch 30/100\n",
      "53/53 [==============================] - 0s 3ms/step - loss: 1.8325e-05 - accuracy: 1.0000\n",
      "Epoch 31/100\n",
      "53/53 [==============================] - 0s 3ms/step - loss: 1.7694e-05 - accuracy: 1.0000\n",
      "Epoch 32/100\n",
      "53/53 [==============================] - 0s 3ms/step - loss: 1.7165e-05 - accuracy: 1.0000\n",
      "Epoch 33/100\n",
      "53/53 [==============================] - 0s 3ms/step - loss: 1.6594e-05 - accuracy: 1.0000\n",
      "Epoch 34/100\n",
      "53/53 [==============================] - 0s 3ms/step - loss: 1.6096e-05 - accuracy: 1.0000\n",
      "Epoch 35/100\n",
      "53/53 [==============================] - 0s 3ms/step - loss: 1.5579e-05 - accuracy: 1.0000\n",
      "Epoch 36/100\n",
      "53/53 [==============================] - 0s 3ms/step - loss: 1.5137e-05 - accuracy: 1.0000\n",
      "Epoch 37/100\n",
      "53/53 [==============================] - 0s 3ms/step - loss: 1.4680e-05 - accuracy: 1.0000\n",
      "Epoch 38/100\n",
      "53/53 [==============================] - 0s 3ms/step - loss: 1.4237e-05 - accuracy: 1.0000\n",
      "Epoch 39/100\n",
      "53/53 [==============================] - 0s 3ms/step - loss: 1.3831e-05 - accuracy: 1.0000\n",
      "Epoch 40/100\n",
      "53/53 [==============================] - 0s 3ms/step - loss: 1.3465e-05 - accuracy: 1.0000\n",
      "Epoch 41/100\n",
      "53/53 [==============================] - 0s 3ms/step - loss: 1.3087e-05 - accuracy: 1.0000\n",
      "Epoch 42/100\n",
      "53/53 [==============================] - 0s 3ms/step - loss: 1.2781e-05 - accuracy: 1.0000\n",
      "Epoch 43/100\n",
      "53/53 [==============================] - 0s 3ms/step - loss: 1.2445e-05 - accuracy: 1.0000\n",
      "Epoch 44/100\n",
      "53/53 [==============================] - 0s 3ms/step - loss: 1.2046e-05 - accuracy: 1.0000\n",
      "Epoch 45/100\n",
      "53/53 [==============================] - 0s 3ms/step - loss: 1.1702e-05 - accuracy: 1.0000\n",
      "Epoch 46/100\n",
      "53/53 [==============================] - 0s 3ms/step - loss: 1.1416e-05 - accuracy: 1.0000\n",
      "Epoch 47/100\n",
      "53/53 [==============================] - 0s 3ms/step - loss: 1.1100e-05 - accuracy: 1.0000\n",
      "Epoch 48/100\n",
      "53/53 [==============================] - 0s 3ms/step - loss: 1.0799e-05 - accuracy: 1.0000\n",
      "Epoch 49/100\n",
      "53/53 [==============================] - 0s 3ms/step - loss: 1.0534e-05 - accuracy: 1.0000\n",
      "Epoch 50/100\n",
      "53/53 [==============================] - 0s 3ms/step - loss: 1.0280e-05 - accuracy: 1.0000\n",
      "Epoch 51/100\n",
      "53/53 [==============================] - 0s 3ms/step - loss: 1.0037e-05 - accuracy: 1.0000\n",
      "Epoch 52/100\n",
      "53/53 [==============================] - 0s 3ms/step - loss: 9.7951e-06 - accuracy: 1.0000\n",
      "Epoch 53/100\n",
      "53/53 [==============================] - 0s 3ms/step - loss: 9.5632e-06 - accuracy: 1.0000\n",
      "Epoch 54/100\n",
      "53/53 [==============================] - 0s 3ms/step - loss: 9.3060e-06 - accuracy: 1.0000\n",
      "Epoch 55/100\n",
      "53/53 [==============================] - 0s 3ms/step - loss: 9.1218e-06 - accuracy: 1.0000\n",
      "Epoch 56/100\n",
      "53/53 [==============================] - 0s 3ms/step - loss: 8.9200e-06 - accuracy: 1.0000\n",
      "Epoch 57/100\n",
      "53/53 [==============================] - 0s 3ms/step - loss: 8.7141e-06 - accuracy: 1.0000\n",
      "Epoch 58/100\n",
      "53/53 [==============================] - 0s 3ms/step - loss: 8.5058e-06 - accuracy: 1.0000\n",
      "Epoch 59/100\n",
      "53/53 [==============================] - 0s 3ms/step - loss: 8.3198e-06 - accuracy: 1.0000\n",
      "Epoch 60/100\n",
      "53/53 [==============================] - 0s 3ms/step - loss: 8.1252e-06 - accuracy: 1.0000\n",
      "Epoch 61/100\n",
      "53/53 [==============================] - 0s 3ms/step - loss: 7.9850e-06 - accuracy: 1.0000\n",
      "Epoch 62/100\n",
      "53/53 [==============================] - 0s 3ms/step - loss: 7.7986e-06 - accuracy: 1.0000\n",
      "Epoch 63/100\n",
      "53/53 [==============================] - 0s 3ms/step - loss: 7.6369e-06 - accuracy: 1.0000\n",
      "Epoch 64/100\n",
      "53/53 [==============================] - 0s 3ms/step - loss: 7.4738e-06 - accuracy: 1.0000\n",
      "Epoch 65/100\n",
      "53/53 [==============================] - 0s 3ms/step - loss: 7.3135e-06 - accuracy: 1.0000\n",
      "Epoch 66/100\n",
      "53/53 [==============================] - 0s 3ms/step - loss: 7.1645e-06 - accuracy: 1.0000\n",
      "Epoch 67/100\n",
      "53/53 [==============================] - 0s 3ms/step - loss: 7.0033e-06 - accuracy: 1.0000\n",
      "Epoch 68/100\n",
      "53/53 [==============================] - 0s 3ms/step - loss: 6.8599e-06 - accuracy: 1.0000\n",
      "Epoch 69/100\n",
      "53/53 [==============================] - 0s 3ms/step - loss: 6.7262e-06 - accuracy: 1.0000\n",
      "Epoch 70/100\n",
      "53/53 [==============================] - 0s 3ms/step - loss: 6.5877e-06 - accuracy: 1.0000\n",
      "Epoch 71/100\n",
      "53/53 [==============================] - 0s 3ms/step - loss: 6.4473e-06 - accuracy: 1.0000\n",
      "Epoch 72/100\n",
      "53/53 [==============================] - 0s 3ms/step - loss: 6.2936e-06 - accuracy: 1.0000\n",
      "Epoch 73/100\n",
      "53/53 [==============================] - 0s 3ms/step - loss: 6.1594e-06 - accuracy: 1.0000\n",
      "Epoch 74/100\n",
      "53/53 [==============================] - 0s 3ms/step - loss: 6.0159e-06 - accuracy: 1.0000\n",
      "Epoch 75/100\n",
      "53/53 [==============================] - 0s 3ms/step - loss: 5.9148e-06 - accuracy: 1.0000\n",
      "Epoch 76/100\n",
      "53/53 [==============================] - 0s 3ms/step - loss: 5.7762e-06 - accuracy: 1.0000\n",
      "Epoch 77/100\n",
      "53/53 [==============================] - 0s 3ms/step - loss: 5.6659e-06 - accuracy: 1.0000\n",
      "Epoch 78/100\n",
      "53/53 [==============================] - 0s 3ms/step - loss: 5.5677e-06 - accuracy: 1.0000\n",
      "Epoch 79/100\n",
      "53/53 [==============================] - 0s 3ms/step - loss: 5.4444e-06 - accuracy: 1.0000\n",
      "Epoch 80/100\n",
      "53/53 [==============================] - 0s 3ms/step - loss: 5.3495e-06 - accuracy: 1.0000\n",
      "Epoch 81/100\n",
      "53/53 [==============================] - 0s 3ms/step - loss: 5.2367e-06 - accuracy: 1.0000\n",
      "Epoch 82/100\n",
      "53/53 [==============================] - 0s 3ms/step - loss: 5.1224e-06 - accuracy: 1.0000\n",
      "Epoch 83/100\n",
      "53/53 [==============================] - 0s 3ms/step - loss: 5.0196e-06 - accuracy: 1.0000\n",
      "Epoch 84/100\n",
      "53/53 [==============================] - 0s 3ms/step - loss: 4.9133e-06 - accuracy: 1.0000\n",
      "Epoch 85/100\n",
      "53/53 [==============================] - 0s 3ms/step - loss: 4.7969e-06 - accuracy: 1.0000\n",
      "Epoch 86/100\n",
      "53/53 [==============================] - 0s 3ms/step - loss: 4.6964e-06 - accuracy: 1.0000\n",
      "Epoch 87/100\n",
      "53/53 [==============================] - 0s 3ms/step - loss: 4.6023e-06 - accuracy: 1.0000\n",
      "Epoch 88/100\n",
      "53/53 [==============================] - 0s 3ms/step - loss: 4.5124e-06 - accuracy: 1.0000\n",
      "Epoch 89/100\n",
      "53/53 [==============================] - 0s 3ms/step - loss: 4.4309e-06 - accuracy: 1.0000\n",
      "Epoch 90/100\n",
      "53/53 [==============================] - 0s 3ms/step - loss: 4.3327e-06 - accuracy: 1.0000\n",
      "Epoch 91/100\n",
      "53/53 [==============================] - 0s 3ms/step - loss: 4.2361e-06 - accuracy: 1.0000\n",
      "Epoch 92/100\n",
      "53/53 [==============================] - 0s 3ms/step - loss: 4.1556e-06 - accuracy: 1.0000\n",
      "Epoch 93/100\n",
      "53/53 [==============================] - 0s 3ms/step - loss: 4.0632e-06 - accuracy: 1.0000\n",
      "Epoch 94/100\n",
      "53/53 [==============================] - 0s 3ms/step - loss: 3.9882e-06 - accuracy: 1.0000\n",
      "Epoch 95/100\n",
      "53/53 [==============================] - 0s 3ms/step - loss: 3.9068e-06 - accuracy: 1.0000\n",
      "Epoch 96/100\n",
      "53/53 [==============================] - 0s 3ms/step - loss: 3.8190e-06 - accuracy: 1.0000\n",
      "Epoch 97/100\n",
      "53/53 [==============================] - 0s 3ms/step - loss: 3.7375e-06 - accuracy: 1.0000\n",
      "Epoch 98/100\n",
      "53/53 [==============================] - 0s 3ms/step - loss: 3.6738e-06 - accuracy: 1.0000\n",
      "Epoch 99/100\n",
      "53/53 [==============================] - 0s 3ms/step - loss: 3.6051e-06 - accuracy: 1.0000\n",
      "Epoch 100/100\n",
      "53/53 [==============================] - 0s 3ms/step - loss: 3.5289e-06 - accuracy: 1.0000\n"
     ]
    },
    {
     "data": {
      "text/plain": [
       "<keras.callbacks.History at 0x7f8b1ff720a0>"
      ]
     },
     "execution_count": 64,
     "metadata": {},
     "output_type": "execute_result"
    }
   ],
   "source": [
    "# 모델 학습\n",
    "model.compile(optimizer='adam',\n",
    "             loss='sparse_categorical_crossentropy',\n",
    "             metrics=['accuracy'])\n",
    "\n",
    "model.fit(x_train_reshaped, y_train, epochs=100)"
   ]
  },
  {
   "cell_type": "code",
   "execution_count": 27,
   "id": "5126b5d8",
   "metadata": {},
   "outputs": [
    {
     "name": "stdout",
     "output_type": "stream",
     "text": [
      "라벨:  2\n",
      "14/14 - 0s - loss: 0.3426 - accuracy: 0.9095\n",
      "test_loss: 0.34256115555763245 \n",
      "test_accuracy: 0.9095237851142883\n"
     ]
    },
    {
     "data": {
      "image/png": "[encoded data removed]",
      "text/plain": [
       "<Figure size 432x288 with 1 Axes>"
      ]
     },
     "metadata": {
      "needs_background": "light"
     },
     "output_type": "display_data"
    }
   ],
   "source": [
    "# 불러온 이미지 확인\n",
    "\n",
    "plt.imshow(x_test[300])\n",
    "print('라벨: ', y_test[300])\n",
    "\n",
    "# 모델 테스트\n",
    "test_loss, test_accuracy = model.evaluate(x_test_reshaped, y_test, verbose=2)\n",
    "print(\"test_loss: {} \".format(test_loss))\n",
    "print(\"test_accuracy: {}\".format(test_accuracy))"
   ]
  },
  {
   "cell_type": "markdown",
   "id": "d586cccf",
   "metadata": {},
   "source": [
    "### 데이터 두번째 방법 ( 학습데이터와 테스트데이터를 완전 별개의 데이터로 분류)\n",
    "     예> 김1, 김2, 김3 의 데이터로 학습,  박1 로 테스트데이터 사용 "
   ]
  },
  {
   "cell_type": "code",
   "execution_count": 37,
   "id": "4ab0050c",
   "metadata": {},
   "outputs": [
    {
     "name": "stdout",
     "output_type": "stream",
     "text": [
      "100  images to be resized.\n",
      "100  images resized.\n",
      "가위 이미지 resize 완료!\n",
      "100  images to be resized.\n",
      "100  images resized.\n",
      "바위 이미지 resize 완료!\n",
      "100  images to be resized.\n",
      "100  images resized.\n",
      "보 이미지 resize 완료!\n"
     ]
    }
   ],
   "source": [
    "#테스트 데이터 크기 조정\n",
    "# 가위 이미지가 저장된 디렉토리 아래의 모든 jpg 파일을 읽어들여서\n",
    "image_dir_path = \"./rock_scissor_paper_test2/scissor\"\n",
    "resize_images(image_dir_path)\n",
    "\n",
    "print(\"가위 이미지 resize 완료!\")\n",
    "\n",
    "# 바위 이미지가 저장된 디렉토리 아래의 모든 jpg 파일을 읽어들여서\n",
    "image_dir_path = \"./rock_scissor_paper_test2/rock\"\n",
    "resize_images(image_dir_path)\n",
    "print(\"바위 이미지 resize 완료!\")\n",
    "\n",
    "# 보 이미지가 저장된 디렉토리 아래의 모든 jpg 파일을 읽어들여서\n",
    "image_dir_path =\"./rock_scissor_paper_test2/paper\" \n",
    "\n",
    "# 파일마다 모두 28x28 사이즈로 바꾸어 저장합니다.\n",
    "resize_images(image_dir_path)\n",
    "print(\"보 이미지 resize 완료!\")"
   ]
  },
  {
   "cell_type": "code",
   "execution_count": 42,
   "id": "b0d929ec",
   "metadata": {},
   "outputs": [
    {
     "name": "stdout",
     "output_type": "stream",
     "text": [
      "학습데이터(x_train)의 이미지 개수는 300 입니다.\n",
      "x_test shape: (300, 28, 28, 3)\n",
      "y_test shape: (300,)\n"
     ]
    }
   ],
   "source": [
    "#test \n",
    "image_dir_path =  \"./rock_scissor_paper_test2/\"\n",
    "(x_test, y_test)=load_data(image_dir_path,300)\n",
    "x_test_norm = x_test/255.0   # 입력은 0~1 사이의 값으로 정규화\n",
    "\n",
    "print(\"x_test shape: {}\".format(x_test.shape))\n",
    "print(\"y_test shape: {}\".format(y_test.shape))"
   ]
  },
  {
   "cell_type": "code",
   "execution_count": 43,
   "id": "d70a75bf",
   "metadata": {},
   "outputs": [
    {
     "name": "stdout",
     "output_type": "stream",
     "text": [
      "라벨:  2\n"
     ]
    },
    {
     "data": {
      "image/png": "[encoded data removed]",
      "text/plain": [
       "<Figure size 432x288 with 1 Axes>"
      ]
     },
     "metadata": {
      "needs_background": "light"
     },
     "output_type": "display_data"
    }
   ],
   "source": [
    "plt.imshow(x_test[200])\n",
    "print('라벨: ', y_test[200])"
   ]
  },
  {
   "cell_type": "code",
   "execution_count": 46,
   "id": "3e7c4a07",
   "metadata": {},
   "outputs": [],
   "source": [
    "x_test_reshaped=x_test_norm.reshape( -1, 28, 28, 3)"
   ]
  },
  {
   "cell_type": "code",
   "execution_count": 65,
   "id": "8b5d9b5c",
   "metadata": {},
   "outputs": [
    {
     "name": "stdout",
     "output_type": "stream",
     "text": [
      "라벨:  2\n",
      "10/10 - 0s - loss: 7.5978 - accuracy: 0.4600\n",
      "test_loss: 7.597764492034912 \n",
      "test_accuracy: 0.46000000834465027\n"
     ]
    },
    {
     "data": {
      "image/png": "[encoded data removed]",
      "text/plain": [
       "<Figure size 432x288 with 1 Axes>"
      ]
     },
     "metadata": {
      "needs_background": "light"
     },
     "output_type": "display_data"
    }
   ],
   "source": [
    "# 불러온 이미지 확인\n",
    "\n",
    "plt.imshow(x_test[200])\n",
    "print('라벨: ', y_test[200])\n",
    "\n",
    "# 모델 테스트\n",
    "test_loss, test_accuracy = model.evaluate(x_test_reshaped, y_test, verbose=2)\n",
    "print(\"test_loss: {} \".format(test_loss))\n",
    "print(\"test_accuracy: {}\".format(test_accuracy))"
   ]
  },
  {
   "cell_type": "code",
   "execution_count": null,
   "id": "ad801e20",
   "metadata": {},
   "outputs": [],
   "source": []
  }
 ],
 "metadata": {
  "kernelspec": {
   "display_name": "Python 3 (ipykernel)",
   "language": "python",
   "name": "python3"
  },
  "language_info": {
   "codemirror_mode": {
    "name": "ipython",
    "version": 3
   },
   "file_extension": ".py",
   "mimetype": "text/x-python",
   "name": "python",
   "nbconvert_exporter": "python",
   "pygments_lexer": "ipython3",
   "version": "3.9.7"
  }
 },
 "nbformat": 4,
 "nbformat_minor": 5
}
